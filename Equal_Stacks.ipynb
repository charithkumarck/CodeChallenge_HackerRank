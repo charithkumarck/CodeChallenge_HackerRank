{
 "cells": [
  {
   "cell_type": "code",
   "execution_count": 1,
   "metadata": {},
   "outputs": [],
   "source": [
    "#!/bin/python3\n",
    "\n",
    "import os\n",
    "import sys\n",
    "\n",
    "#\n",
    "# Complete the equalStacks function below.\n",
    "#\n",
    "def equalStacks(h1, h2, h3):\n",
    "    #\n",
    "    # Write your code here.\n",
    "    #\n",
    "    s1, s2, s3 = map(sum, (h1, h2, h3))\n",
    "    while h1 and h2 and h3:\n",
    "        m = min(s1, s2, s3)\n",
    "        while s1 > m:\n",
    "            s1 -= h1.pop(0)\n",
    "        while s2 > m:\n",
    "            s2 -= h2.pop(0)\n",
    "        while s3 > m:\n",
    "            s3 -= h3.pop(0)\n",
    "        if s1 == s2 == s3: \n",
    "            return s1\n",
    "    return 0"
   ]
  },
  {
   "cell_type": "code",
   "execution_count": null,
   "metadata": {},
   "outputs": [],
   "source": []
  }
 ],
 "metadata": {
  "kernelspec": {
   "display_name": "Python 3",
   "language": "python",
   "name": "python3"
  },
  "language_info": {
   "codemirror_mode": {
    "name": "ipython",
    "version": 3
   },
   "file_extension": ".py",
   "mimetype": "text/x-python",
   "name": "python",
   "nbconvert_exporter": "python",
   "pygments_lexer": "ipython3",
   "version": "3.7.6"
  }
 },
 "nbformat": 4,
 "nbformat_minor": 4
}
